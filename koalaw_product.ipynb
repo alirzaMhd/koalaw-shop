{
  "nbformat": 4,
  "nbformat_minor": 0,
  "metadata": {
    "colab": {
      "provenance": [],
      "authorship_tag": "ABX9TyP4XU0S0o/wSrZE+vg+aihz",
      "include_colab_link": true
    },
    "kernelspec": {
      "name": "python3",
      "display_name": "Python 3"
    },
    "language_info": {
      "name": "python"
    }
  },
  "cells": [
    {
      "cell_type": "markdown",
      "metadata": {
        "id": "view-in-github",
        "colab_type": "text"
      },
      "source": [
        "<a href=\"https://colab.research.google.com/github/alirzaMhd/koalaw-shop/blob/master/koalaw_product.ipynb\" target=\"_parent\"><img src=\"https://colab.research.google.com/assets/colab-badge.svg\" alt=\"Open In Colab\"/></a>"
      ]
    },
    {
      "cell_type": "code",
      "execution_count": 7,
      "metadata": {
        "colab": {
          "base_uri": "https://localhost:8080/",
          "height": 138
        },
        "cellView": "form",
        "id": "3eJUonwlT7rI",
        "outputId": "d8096a44-41c7-460a-99a4-31d30165d11a"
      },
      "outputs": [
        {
          "output_type": "stream",
          "name": "stdout",
          "text": [
            "Found 1 images\n",
            "Processing 1/1: cosmetic.png\n",
            "✓ Saved: cosmetic_nobg.png\n",
            "\n",
            "✓ Created zip file with 2 images\n",
            "Downloading...\n"
          ]
        },
        {
          "output_type": "display_data",
          "data": {
            "text/plain": [
              "<IPython.core.display.Javascript object>"
            ],
            "application/javascript": [
              "\n",
              "    async function download(id, filename, size) {\n",
              "      if (!google.colab.kernel.accessAllowed) {\n",
              "        return;\n",
              "      }\n",
              "      const div = document.createElement('div');\n",
              "      const label = document.createElement('label');\n",
              "      label.textContent = `Downloading \"${filename}\": `;\n",
              "      div.appendChild(label);\n",
              "      const progress = document.createElement('progress');\n",
              "      progress.max = size;\n",
              "      div.appendChild(progress);\n",
              "      document.body.appendChild(div);\n",
              "\n",
              "      const buffers = [];\n",
              "      let downloaded = 0;\n",
              "\n",
              "      const channel = await google.colab.kernel.comms.open(id);\n",
              "      // Send a message to notify the kernel that we're ready.\n",
              "      channel.send({})\n",
              "\n",
              "      for await (const message of channel.messages) {\n",
              "        // Send a message to notify the kernel that we're ready.\n",
              "        channel.send({})\n",
              "        if (message.buffers) {\n",
              "          for (const buffer of message.buffers) {\n",
              "            buffers.push(buffer);\n",
              "            downloaded += buffer.byteLength;\n",
              "            progress.value = downloaded;\n",
              "          }\n",
              "        }\n",
              "      }\n",
              "      const blob = new Blob(buffers, {type: 'application/binary'});\n",
              "      const a = document.createElement('a');\n",
              "      a.href = window.URL.createObjectURL(blob);\n",
              "      a.download = filename;\n",
              "      div.appendChild(a);\n",
              "      a.click();\n",
              "      div.remove();\n",
              "    }\n",
              "  "
            ]
          },
          "metadata": {}
        },
        {
          "output_type": "display_data",
          "data": {
            "text/plain": [
              "<IPython.core.display.Javascript object>"
            ],
            "application/javascript": [
              "download(\"download_680820ea-d6a9-42ed-9720-9fe786945d52\", \"images_no_background.zip\", 3734834)"
            ]
          },
          "metadata": {}
        },
        {
          "output_type": "stream",
          "name": "stdout",
          "text": [
            "✓ Download complete!\n"
          ]
        }
      ],
      "source": [
        "# @title just run\n",
        "# Install required library\n",
        "\n",
        "import os\n",
        "import glob\n",
        "try:\n",
        "  from rembg import remove\n",
        "except:\n",
        "  !pip install rembg pillow onnxruntime\n",
        "  from rembg import remove\n",
        "from PIL import Image\n",
        "import zipfile\n",
        "from google.colab import files as colab_files\n",
        "\n",
        "# Create output directory\n",
        "output_dir = '/content/output_images'\n",
        "os.makedirs(output_dir, exist_ok=True)\n",
        "\n",
        "# Extended list of all supported image formats\n",
        "image_extensions = [\n",
        "    # JPEG variants\n",
        "    '*.jpg', '*.jpeg', '*.jpe', '*.jfif', '*.JPG', '*.JPEG', '*.JPE', '*.JFIF',\n",
        "    # PNG\n",
        "    '*.png', '*.PNG',\n",
        "    # WebP\n",
        "    '*.webp', '*.WEBP',\n",
        "    # BMP\n",
        "    '*.bmp', '*.dib', '*.BMP', '*.DIB',\n",
        "    # TIFF\n",
        "    '*.tiff', '*.tif', '*.TIFF', '*.TIF',\n",
        "    # GIF\n",
        "    '*.gif', '*.GIF',\n",
        "    # ICO\n",
        "    '*.ico', '*.ICO',\n",
        "    # Photoshop\n",
        "    '*.psd', '*.PSD',\n",
        "    # HEIC/HEIF (iPhone images)\n",
        "    '*.heic', '*.heif', '*.HEIC', '*.HEIF',\n",
        "    # AVIF\n",
        "    '*.avif', '*.AVIF',\n",
        "    # PPM, PGM, PBM\n",
        "    '*.ppm', '*.pgm', '*.pbm', '*.PPM', '*.PGM', '*.PBM',\n",
        "    # SVG\n",
        "    '*.svg', '*.SVG',\n",
        "    # Other formats\n",
        "    '*.pcx', '*.PCX',\n",
        "    '*.tga', '*.TGA',\n",
        "    '*.exr', '*.EXR',\n",
        "    '*.hdr', '*.HDR'\n",
        "]\n",
        "\n",
        "# Get all image files from /content/\n",
        "image_files = []\n",
        "for ext in image_extensions:\n",
        "    image_files.extend(glob.glob(f'/content/{ext}'))\n",
        "\n",
        "# Remove duplicates if any\n",
        "image_files = list(set(image_files))\n",
        "\n",
        "print(f\"Found {len(image_files)} images\")\n",
        "\n",
        "# Remove background from each image\n",
        "for idx, image_path in enumerate(image_files):\n",
        "    try:\n",
        "        print(f\"Processing {idx+1}/{len(image_files)}: {os.path.basename(image_path)}\")\n",
        "\n",
        "        # Open image\n",
        "        input_image = Image.open(image_path)\n",
        "\n",
        "        # Convert to RGB/RGBA if necessary\n",
        "        if input_image.mode in ('RGBA', 'LA', 'P'):\n",
        "            input_image = input_image.convert('RGBA')\n",
        "        elif input_image.mode != 'RGB':\n",
        "            input_image = input_image.convert('RGB')\n",
        "\n",
        "        # Remove background (returns RGBA image with transparent background)\n",
        "        output_image = remove(input_image)\n",
        "\n",
        "        # Save as PNG with transparent background\n",
        "        output_filename = os.path.splitext(os.path.basename(image_path))[0] + '_nobg.png'\n",
        "        output_path = os.path.join(output_dir, output_filename)\n",
        "        output_image.save(output_path, 'PNG')\n",
        "\n",
        "        print(f\"✓ Saved: {output_filename}\")\n",
        "\n",
        "    except Exception as e:\n",
        "        print(f\"✗ Error processing {image_path}: {str(e)}\")\n",
        "\n",
        "# Create zip file\n",
        "zip_filename = '/content/images_no_background.zip'\n",
        "with zipfile.ZipFile(zip_filename, 'w', zipfile.ZIP_DEFLATED) as zipf:\n",
        "    for root, dirs, files in os.walk(output_dir):\n",
        "        for file in files:\n",
        "            file_path = os.path.join(root, file)\n",
        "            zipf.write(file_path, arcname=file)\n",
        "\n",
        "print(f\"\\n✓ Created zip file with {len(os.listdir(output_dir))} images\")\n",
        "\n",
        "# Download the zip file\n",
        "print(\"Downloading...\")\n",
        "colab_files.download(zip_filename)\n",
        "print(\"✓ Download complete!\")"
      ]
    }
  ]
}